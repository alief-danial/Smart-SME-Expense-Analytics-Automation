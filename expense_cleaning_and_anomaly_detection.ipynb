{
 "cells": [
  {
   "cell_type": "markdown",
   "id": "d8c5eaed-dfa0-4874-8b5f-52b9d27e8f7e",
   "metadata": {},
   "source": [
    "# ETL Pipeline for Budget & Expenses Data "
   ]
  },
  {
   "cell_type": "markdown",
   "id": "a6f0241c-cb80-4ea3-aac7-e7e9c152664f",
   "metadata": {},
   "source": [
    "### 1. Import Libraries"
   ]
  },
  {
   "cell_type": "code",
   "execution_count": 2,
   "id": "8a5474ee-8dd0-4ffd-8538-4d40342fb1bf",
   "metadata": {},
   "outputs": [],
   "source": [
    "import pandas as pd\n",
    "import pyodbc\n",
    "import numpy as np\n",
    "from datetime import datetime, timedelta"
   ]
  },
  {
   "cell_type": "markdown",
   "id": "2b3d436e-f028-4f0a-b0c3-17d0a19334cf",
   "metadata": {},
   "source": [
    "### 2. Connect to SQL Server"
   ]
  },
  {
   "cell_type": "code",
   "execution_count": 3,
   "id": "cb9df2ed-c5a3-4517-bb0e-38154edf3db1",
   "metadata": {},
   "outputs": [],
   "source": [
    "conn = pyodbc.connect(\n",
    "    'DRIVER={ODBC Driver 17 for SQL Server};'\n",
    "    'SERVER=ALIEF-PC\\SQLDEVELOPER;' \n",
    "    'DATABASE=Swipey;' \n",
    "    'Trusted_Connection=yes;'\n",
    ")\n"
   ]
  },
  {
   "cell_type": "markdown",
   "id": "b5786cdd-ea91-4781-94c0-858456b3154e",
   "metadata": {},
   "source": [
    "### 3. Load Data from SQL Tables"
   ]
  },
  {
   "cell_type": "code",
   "execution_count": 4,
   "id": "1f1ea7aa-b33e-4f13-9f85-7e667a1e8376",
   "metadata": {},
   "outputs": [
    {
     "name": "stderr",
     "output_type": "stream",
     "text": [
      "C:\\Users\\User\\AppData\\Local\\Temp\\ipykernel_65444\\384851433.py:1: UserWarning: pandas only supports SQLAlchemy connectable (engine/connection) or database string URI or sqlite3 DBAPI2 connection. Other DBAPI2 objects are not tested. Please consider using SQLAlchemy.\n",
      "  budget_df = pd.read_sql_query(\"SELECT * FROM dbo.budget_allocation\", conn)\n",
      "C:\\Users\\User\\AppData\\Local\\Temp\\ipykernel_65444\\384851433.py:2: UserWarning: pandas only supports SQLAlchemy connectable (engine/connection) or database string URI or sqlite3 DBAPI2 connection. Other DBAPI2 objects are not tested. Please consider using SQLAlchemy.\n",
      "  expenses_df = pd.read_sql_query(\"SELECT * FROM dbo.expenses_raw\", conn)\n"
     ]
    }
   ],
   "source": [
    "budget_df = pd.read_sql_query(\"SELECT * FROM dbo.budget_allocation\", conn)\n",
    "expenses_df = pd.read_sql_query(\"SELECT * FROM dbo.expenses_raw\", conn)"
   ]
  },
  {
   "cell_type": "markdown",
   "id": "28b5d909-f698-4847-9052-de61fdcab0da",
   "metadata": {},
   "source": [
    "### 4. Data Validation"
   ]
  },
  {
   "cell_type": "code",
   "execution_count": 5,
   "id": "e67be3d7-4b3b-4075-aa1d-758cf11f6aaa",
   "metadata": {},
   "outputs": [
    {
     "name": "stdout",
     "output_type": "stream",
     "text": [
      "Missing Values (Budget Allocation):\n",
      " department          0\n",
      "budget_allocated    0\n",
      "dtype: int64\n",
      "Missing Values (Expenses Raw):\n",
      " expense_id        0\n",
      "expense_date      0\n",
      "department        0\n",
      "expense_type      0\n",
      "vendor            0\n",
      "amount            0\n",
      "payment_method    0\n",
      "dtype: int64\n"
     ]
    }
   ],
   "source": [
    "# Check Missing Values\n",
    "print(\"Missing Values (Budget Allocation):\\n\", budget_df.isnull().sum())\n",
    "print(\"Missing Values (Expenses Raw):\\n\", expenses_df.isnull().sum())"
   ]
  },
  {
   "cell_type": "code",
   "execution_count": 6,
   "id": "4a31e27c-0bb1-4f8e-8ffd-3e083d64456a",
   "metadata": {},
   "outputs": [
    {
     "name": "stdout",
     "output_type": "stream",
     "text": [
      "Duplicate Rows (Budget Allocation): 0\n",
      "Duplicate Rows (Expenses Raw): 0\n"
     ]
    }
   ],
   "source": [
    "# Check Duplicates\n",
    "print(\"Duplicate Rows (Budget Allocation):\", budget_df.duplicated().sum())\n",
    "print(\"Duplicate Rows (Expenses Raw):\", expenses_df.duplicated().sum())"
   ]
  },
  {
   "cell_type": "code",
   "execution_count": 7,
   "id": "8624a882-3371-4380-bebd-4f019d048191",
   "metadata": {},
   "outputs": [
    {
     "name": "stdout",
     "output_type": "stream",
     "text": [
      "(5, 2)\n",
      "(1000, 7)\n"
     ]
    }
   ],
   "source": [
    "# Check shape\n",
    "print(budget_df.shape)\n",
    "print(expenses_df.shape)"
   ]
  },
  {
   "cell_type": "code",
   "execution_count": 8,
   "id": "4ce07c1e-aaad-41a3-9f04-7c5cdb4a48a3",
   "metadata": {},
   "outputs": [
    {
     "name": "stdout",
     "output_type": "stream",
     "text": [
      "   department  budget_allocated\n",
      "0  Operations         519978.47\n",
      "1          IT         490861.53\n",
      "2     Finance         537859.65\n",
      "3          HR         598713.80\n",
      "4   Marketing         577033.50\n",
      "   expense_id expense_date department     expense_type     vendor   amount  \\\n",
      "0           1   2024-06-12         HR     Subscription  Microsoft  1903.97   \n",
      "1           2   2024-02-27         IT  Office Supplies     Google  4756.04   \n",
      "2           3   2024-05-19         HR        Utilities     Shopee  3673.37   \n",
      "3           4   2024-01-08         HR           Travel       Grab  3013.36   \n",
      "4           5   2024-06-03         HR        Utilities       Grab   822.29   \n",
      "\n",
      "  payment_method  \n",
      "0           Card  \n",
      "1           Cash  \n",
      "2           Card  \n",
      "3           Cash  \n",
      "4           Cash  \n"
     ]
    }
   ],
   "source": [
    "print(budget_df.head())\n",
    "print(expenses_df.head())"
   ]
  },
  {
   "cell_type": "markdown",
   "id": "7e59b2b8-fb82-431f-81cb-37f29fa53b41",
   "metadata": {},
   "source": [
    "### 5. Merge Data"
   ]
  },
  {
   "cell_type": "code",
   "execution_count": 9,
   "id": "37c0873e-f170-46b0-a310-4d1f2752624c",
   "metadata": {},
   "outputs": [],
   "source": [
    "merged_df = pd.merge(expenses_df, budget_df, on='department', how='left')"
   ]
  },
  {
   "cell_type": "markdown",
   "id": "9a5466ab-b1f2-4566-94a4-e9c7d7e103c6",
   "metadata": {},
   "source": [
    "### 6. Data Transformation"
   ]
  },
  {
   "cell_type": "code",
   "execution_count": 10,
   "id": "60545e95-1fc4-43e6-82a4-9fdafb317bb6",
   "metadata": {},
   "outputs": [],
   "source": [
    "# Compute cumulative expense per department\n",
    "merged_df['cumulative_expense'] = merged_df.groupby('department')['amount'].cumsum()\n",
    "\n",
    "# Compute remaining budget per row\n",
    "merged_df['remaining_budget'] = merged_df['budget_allocated'] - merged_df['cumulative_expense']"
   ]
  },
  {
   "cell_type": "code",
   "execution_count": 11,
   "id": "d0fbd2be-d0e1-4b73-a0a4-8667486ff197",
   "metadata": {},
   "outputs": [],
   "source": [
    "# Summary:\n",
    "final_summary = merged_df.groupby('department').agg({\n",
    "    'budget_allocated': 'first',  # Total Budget per Department\n",
    "    'cumulative_expense': 'last',  # Final Cumulative Expense\n",
    "})"
   ]
  },
  {
   "cell_type": "markdown",
   "id": "74588089-6427-4ff2-bb16-3f0f5a3999fb",
   "metadata": {},
   "source": [
    "### 7. Anomaly Detection "
   ]
  },
  {
   "cell_type": "code",
   "execution_count": 12,
   "id": "c0c9ad4c-9c45-48e5-bc2f-4716ecd04d17",
   "metadata": {},
   "outputs": [],
   "source": [
    "avg_amount = merged_df.groupby('department')['amount'].transform('mean')\n",
    "merged_df['anomaly_flag'] = np.where(merged_df['amount'] > 2 * avg_amount, 'Anomaly', 'Normal')"
   ]
  },
  {
   "cell_type": "markdown",
   "id": "fb7de9ed-eb51-4f24-98a8-794feb6d937a",
   "metadata": {},
   "source": [
    "### 8. Summary"
   ]
  },
  {
   "cell_type": "code",
   "execution_count": 13,
   "id": "f0bea13b-1a04-4a54-8931-1cec23caf5e8",
   "metadata": {},
   "outputs": [],
   "source": [
    "summary_df = merged_df.groupby('department').agg({\n",
    "    'budget_allocated': 'first',\n",
    "    'amount': 'sum',\n",
    "    'remaining_budget': 'last'\n",
    "}).reset_index()"
   ]
  },
  {
   "cell_type": "markdown",
   "id": "d609c2b1-c356-4bc3-bcb7-43f9c05f2a0c",
   "metadata": {},
   "source": [
    "### 9. Export"
   ]
  },
  {
   "cell_type": "code",
   "execution_count": 15,
   "id": "1901188f-d87d-4a44-bdc7-177a546f257a",
   "metadata": {},
   "outputs": [],
   "source": [
    "merged_df.to_csv('merged_budget_expenses_cleaned.csv', index=False)\n",
    "summary_df.to_csv('department_budget_summary.csv', index=False)"
   ]
  },
  {
   "cell_type": "markdown",
   "id": "3ffadd56-5925-4e0e-a087-b103a0469c20",
   "metadata": {},
   "source": [
    "### 10. Output"
   ]
  },
  {
   "cell_type": "code",
   "execution_count": 121,
   "id": "e8d4dbe8-d35b-4ed8-a7ce-f45695fc9f56",
   "metadata": {},
   "outputs": [
    {
     "name": "stdout",
     "output_type": "stream",
     "text": [
      "\n",
      "ETL Process Completed. CSVs exported for Power BI.\n",
      "Rows Processed: 1000\n",
      "Anomalies Detected: 16\n",
      "\n",
      "Summary per Department:\n",
      "    department  budget_allocated     amount  remaining_budget\n",
      "0     Finance         537859.65  488963.32          48896.33\n",
      "1          HR         598713.80  544285.27          54428.53\n",
      "2          IT         490861.53  446237.75          44623.78\n",
      "3   Marketing         577033.50  524575.91          52457.59\n",
      "4  Operations         519978.47  472707.70          47270.77\n"
     ]
    }
   ],
   "source": [
    "print(\"\\nETL Process Completed. CSVs exported for Power BI.\")\n",
    "print(\"Rows Processed:\", len(merged_df))\n",
    "print(\"Anomalies Detected:\", merged_df['anomaly_flag'].value_counts().get('Anomaly', 0))\n",
    "print(\"\\nSummary per Department:\\n\", summary_df)"
   ]
  },
  {
   "cell_type": "code",
   "execution_count": null,
   "id": "bf3fece3-c0b1-4534-a100-2f50da66d1b5",
   "metadata": {},
   "outputs": [],
   "source": []
  }
 ],
 "metadata": {
  "kernelspec": {
   "display_name": "Python [conda env:base] *",
   "language": "python",
   "name": "conda-base-py"
  },
  "language_info": {
   "codemirror_mode": {
    "name": "ipython",
    "version": 3
   },
   "file_extension": ".py",
   "mimetype": "text/x-python",
   "name": "python",
   "nbconvert_exporter": "python",
   "pygments_lexer": "ipython3",
   "version": "3.13.5"
  }
 },
 "nbformat": 4,
 "nbformat_minor": 5
}
